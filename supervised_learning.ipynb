{
  "nbformat": 4,
  "nbformat_minor": 0,
  "metadata": {
    "colab": {
      "provenance": [],
      "authorship_tag": "ABX9TyPvJEFII1+6LFwuHiTAx+uf",
      "include_colab_link": true
    },
    "kernelspec": {
      "name": "python3",
      "display_name": "Python 3"
    },
    "language_info": {
      "name": "python"
    }
  },
  "cells": [
    {
      "cell_type": "markdown",
      "metadata": {
        "id": "view-in-github",
        "colab_type": "text"
      },
      "source": [
        "<a href=\"https://colab.research.google.com/github/zaynab-emadi/linear_regression/blob/main/supervised_learning.ipynb\" target=\"_parent\"><img src=\"https://colab.research.google.com/assets/colab-badge.svg\" alt=\"Open In Colab\"/></a>"
      ]
    },
    {
      "cell_type": "code",
      "source": [
        "x = [5, 3, -1, 2, 6]\n",
        "y= [14, 6, -5.5, 3.5, 18]\n",
        "print(x,y)"
      ],
      "metadata": {
        "colab": {
          "base_uri": "https://localhost:8080/"
        },
        "id": "ChQMLI2BWe4J",
        "outputId": "3ce31ff4-f5ab-42a8-e0cd-2468853993bf"
      },
      "execution_count": null,
      "outputs": [
        {
          "output_type": "stream",
          "name": "stdout",
          "text": [
            "[5, 3, -1, 2, 6] [14, 6, -5.5, 3.5, 18]\n"
          ]
        }
      ]
    },
    {
      "cell_type": "markdown",
      "source": [
        "**Linear-regression**\n",
        "<br>\n",
        "Analytcal approach for solving linear regression"
      ],
      "metadata": {
        "id": "TJBCAw29W62h"
      }
    },
    {
      "cell_type": "code",
      "source": [
        "X, Y, XiYi, Xi2 = 0, 0, 0, 0\n",
        "n = len(x)\n",
        "for i in range(n):\n",
        "  X = X + x[i]\n",
        "  Y = Y + y[i]\n",
        "  XiYi = XiYi + x[i]*y[i]\n",
        "  Xi2 = Xi2 + x[i]**2\n",
        "print(X, Y, XiYi, Xi2)"
      ],
      "metadata": {
        "colab": {
          "base_uri": "https://localhost:8080/"
        },
        "id": "_6st_Ez0XXax",
        "outputId": "303c16aa-3ab6-4053-b32e-6f0821c235f4"
      },
      "execution_count": null,
      "outputs": [
        {
          "output_type": "stream",
          "name": "stdout",
          "text": [
            "15 36.0 208.5 75\n"
          ]
        }
      ]
    },
    {
      "cell_type": "code",
      "source": [
        "w1 = (n*XiYi-X*Y)/(n*Xi2-X**2)\n",
        "print(w1)"
      ],
      "metadata": {
        "colab": {
          "base_uri": "https://localhost:8080/"
        },
        "id": "TjHDpspCX9rQ",
        "outputId": "a782b4ab-d8dc-4a17-babb-a8fc41fc05b0"
      },
      "execution_count": null,
      "outputs": [
        {
          "output_type": "stream",
          "name": "stdout",
          "text": [
            "3.35\n"
          ]
        }
      ]
    },
    {
      "cell_type": "code",
      "source": [
        "w0 = (Y - w1*X)/n\n",
        "print(w0)"
      ],
      "metadata": {
        "colab": {
          "base_uri": "https://localhost:8080/"
        },
        "id": "viemgHpEYzP-",
        "outputId": "105a9ad9-b6fc-4456-aaa1-27c21a03ada6"
      },
      "execution_count": null,
      "outputs": [
        {
          "output_type": "stream",
          "name": "stdout",
          "text": [
            "-2.85\n"
          ]
        }
      ]
    },
    {
      "cell_type": "code",
      "source": [
        "import matplotlib.pyplot as plt\n",
        "import numpy as np\n",
        "\n",
        "#estimated y\n",
        "yhat =  np.zeros(n)\n",
        "for i in range(n):\n",
        "  yhat[i] =  w0 + w1*x[i]\n",
        "#plot\n",
        "plt.plot(x, y, 'bo')\n",
        "plt.plot(x, yhat, 'r')"
      ],
      "metadata": {
        "colab": {
          "base_uri": "https://localhost:8080/",
          "height": 447
        },
        "id": "5ItxIGK0ZlDz",
        "outputId": "2f385187-7048-44d2-8f3c-b7cad22c14e6"
      },
      "execution_count": null,
      "outputs": [
        {
          "output_type": "execute_result",
          "data": {
            "text/plain": [
              "[<matplotlib.lines.Line2D at 0x7b961a5cdb90>]"
            ]
          },
          "metadata": {},
          "execution_count": 13
        },
        {
          "output_type": "display_data",
          "data": {
            "text/plain": [
              "<Figure size 640x480 with 1 Axes>"
            ],
            "image/png": "[encoded data removed]"
          },
          "metadata": {}
        }
      ]
    },
    {
      "cell_type": "markdown",
      "source": [
        "**Another example with 1000 point**"
      ],
      "metadata": {
        "id": "o_YbJ-JBZJC_"
      }
    },
    {
      "cell_type": "code",
      "source": [
        "n = 1000\n",
        "x = np.random.normal(3, 5, size=n)\n",
        "y = -15 * x + 20 + np.random.normal(0, 10, size=n)"
      ],
      "metadata": {
        "id": "HgiPz3IiZRaq"
      },
      "execution_count": null,
      "outputs": []
    },
    {
      "cell_type": "code",
      "source": [
        "# analycal approach\n",
        "X = np.sum(x)\n",
        "Y = np.sum(y)\n",
        "b1 = (n * np.dot(x, y) - X*Y)/(n*np.dot(x, x) - X**2)\n",
        "b0 = (Y - b1*X)/n\n",
        "b1, b0 = round(b1, 2), round(b0, 2)\n",
        "print(f\"y = {b1}x + {b0}\")"
      ],
      "metadata": {
        "colab": {
          "base_uri": "https://localhost:8080/"
        },
        "id": "QBye47VWeWrZ",
        "outputId": "c7f57459-2ce4-4a41-d658-51a59d4905a3"
      },
      "execution_count": null,
      "outputs": [
        {
          "output_type": "stream",
          "name": "stdout",
          "text": [
            "y = -15.02x + 20.17\n"
          ]
        }
      ]
    },
    {
      "cell_type": "code",
      "source": [
        "def SSE_loss(b1, b0, x, y):\n",
        "  pred = b0 + b1*X\n",
        "  loss = np.sum((pred-y)**2)\n",
        "  return loss\n",
        "\n",
        "#generate b1, b0 around real\n",
        "b1_vals= np.linspace(-30, 0, 100)\n",
        "b0_vals = np.linspace(0, 40, 100)"
      ],
      "metadata": {
        "id": "Tt_a8tKzgK1x"
      },
      "execution_count": null,
      "outputs": []
    }
  ]
}